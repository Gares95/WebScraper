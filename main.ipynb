{
 "cells": [
  {
   "cell_type": "markdown",
   "metadata": {},
   "source": [
    "### Yahoo Web Scraper"
   ]
  },
  {
   "cell_type": "code",
   "execution_count": null,
   "metadata": {},
   "outputs": [],
   "source": [
    "# for element in dir():\n",
    "#     if element[0:2] != \"__\":\n",
    "#         del globals()[element]\n",
    "# del element"
   ]
  },
  {
   "cell_type": "markdown",
   "metadata": {},
   "source": [
    "Import neccessary libraries"
   ]
  },
  {
   "cell_type": "code",
   "execution_count": null,
   "metadata": {},
   "outputs": [],
   "source": [
    "from bs4 import BeautifulSoup\n",
    "import requests\n",
    "import pandas as pd\n",
    "from plotnine import *\n",
    "from give_me_trend import give_me_trend\n",
    "from date_conversion import date_conversion\n",
    "from give_me_top3Data import give_me_top3data"
   ]
  },
  {
   "cell_type": "markdown",
   "metadata": {},
   "source": [
    "Use Give_me_trend() function to obtain trending companies in Yahoo finances"
   ]
  },
  {
   "cell_type": "code",
   "execution_count": null,
   "metadata": {},
   "outputs": [],
   "source": [
    "trends = give_me_trend()"
   ]
  },
  {
   "cell_type": "markdown",
   "metadata": {},
   "source": [
    "Get the urls of the companies"
   ]
  },
  {
   "cell_type": "code",
   "execution_count": null,
   "metadata": {},
   "outputs": [],
   "source": [
    "urls = trends.iloc[:,1]"
   ]
  },
  {
   "cell_type": "markdown",
   "metadata": {},
   "source": [
    "For each url obtain the data"
   ]
  },
  {
   "cell_type": "code",
   "execution_count": null,
   "metadata": {},
   "outputs": [],
   "source": [
    "top3Table = give_me_top3data(urls)"
   ]
  },
  {
   "cell_type": "markdown",
   "metadata": {},
   "source": [
    "Plot stock data for each company"
   ]
  },
  {
   "cell_type": "code",
   "execution_count": null,
   "metadata": {},
   "outputs": [],
   "source": [
    "ggplot(top3Table) + \\\n",
    "    aes(x='Date') + \\\n",
    "    geom_line(aes(y=df.columns[1]), color='blue') + \\\n",
    "    geom_line(aes(y=df.columns[2]), color='red') + \\\n",
    "    geom_line(aes(y=df.columns[3]), color='green') + \\\n",
    "    ggtitle(\"Close value\") + \\\n",
    "    theme(axis_text_x  = element_text(angle = 90, hjust = 1))"
   ]
  },
  {
   "cell_type": "code",
   "execution_count": null,
   "metadata": {},
   "outputs": [],
   "source": [
    "ggplot(df) + \\\n",
    "    aes(x='Date', y = df.columns[1]) + \\\n",
    "    geom_path() + \\\n",
    "    ggtitle(\"Close value\") + \\\n",
    "    theme(axis_text_x  = element_text(angle = 90, hjust = 1))\n"
   ]
  },
  {
   "cell_type": "code",
   "execution_count": null,
   "metadata": {},
   "outputs": [],
   "source": [
    "ggplot(df) + \\\n",
    "    aes(x='Date', y = 'Close Value') + \\\n",
    "    geom_path() + \\\n",
    "    ggtitle(CompName.text) + \\\n",
    "    theme(axis_text_x  = element_text(angle = 90, hjust = 1))\n"
   ]
  },
  {
   "cell_type": "code",
   "execution_count": null,
   "metadata": {},
   "outputs": [],
   "source": [
    "ggplot(df) + \\\n",
    "    aes(x='Date', y = 'Close Value') + \\\n",
    "    geom_path() + \\\n",
    "    title(CompName.text) + \\\n",
    "    ylim (2, 2.4) + \\\n",
    "    xlim (fst, scd) + \\\n",
    "    scale_y_log10() + \\\n",
    "    theme(axis_text_x  = element_text(angle = 90, hjust = 1))\n"
   ]
  }
 ],
 "metadata": {
  "kernelspec": {
   "display_name": "Python 3",
   "language": "python",
   "name": "python3"
  },
  "language_info": {
   "codemirror_mode": {
    "name": "ipython",
    "version": 3
   },
   "file_extension": ".py",
   "mimetype": "text/x-python",
   "name": "python",
   "nbconvert_exporter": "python",
   "pygments_lexer": "ipython3",
   "version": "3.8.3"
  }
 },
 "nbformat": 4,
 "nbformat_minor": 4
}
